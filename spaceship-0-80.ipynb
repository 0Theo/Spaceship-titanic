{
 "cells": [
  {
   "cell_type": "code",
   "execution_count": 1,
   "id": "47c5da3c",
   "metadata": {
    "_cell_guid": "b1076dfc-b9ad-4769-8c92-a6c4dae69d19",
    "_uuid": "8f2839f25d086af736a60e9eeb907d3b93b6e0e5",
    "execution": {
     "iopub.execute_input": "2022-08-04T15:25:29.571909Z",
     "iopub.status.busy": "2022-08-04T15:25:29.570855Z",
     "iopub.status.idle": "2022-08-04T15:25:31.850937Z",
     "shell.execute_reply": "2022-08-04T15:25:31.849947Z"
    },
    "papermill": {
     "duration": 2.2906,
     "end_time": "2022-08-04T15:25:31.853575",
     "exception": false,
     "start_time": "2022-08-04T15:25:29.562975",
     "status": "completed"
    },
    "tags": []
   },
   "outputs": [
    {
     "data": {
      "text/html": [
       "<style type='text/css'>\n",
       ".datatable table.frame { margin-bottom: 0; }\n",
       ".datatable table.frame thead { border-bottom: none; }\n",
       ".datatable table.frame tr.coltypes td {  color: #FFFFFF;  line-height: 6px;  padding: 0 0.5em;}\n",
       ".datatable .bool    { background: #DDDD99; }\n",
       ".datatable .object  { background: #565656; }\n",
       ".datatable .int     { background: #5D9E5D; }\n",
       ".datatable .float   { background: #4040CC; }\n",
       ".datatable .str     { background: #CC4040; }\n",
       ".datatable .time    { background: #40CC40; }\n",
       ".datatable .row_index {  background: var(--jp-border-color3);  border-right: 1px solid var(--jp-border-color0);  color: var(--jp-ui-font-color3);  font-size: 9px;}\n",
       ".datatable .frame tbody td { text-align: left; }\n",
       ".datatable .frame tr.coltypes .row_index {  background: var(--jp-border-color0);}\n",
       ".datatable th:nth-child(2) { padding-left: 12px; }\n",
       ".datatable .hellipsis {  color: var(--jp-cell-editor-border-color);}\n",
       ".datatable .vellipsis {  background: var(--jp-layout-color0);  color: var(--jp-cell-editor-border-color);}\n",
       ".datatable .na {  color: var(--jp-cell-editor-border-color);  font-size: 80%;}\n",
       ".datatable .sp {  opacity: 0.25;}\n",
       ".datatable .footer { font-size: 9px; }\n",
       ".datatable .frame_dimensions {  background: var(--jp-border-color3);  border-top: 1px solid var(--jp-border-color0);  color: var(--jp-ui-font-color3);  display: inline-block;  opacity: 0.6;  padding: 1px 10px 1px 5px;}\n",
       "</style>\n"
      ],
      "text/plain": [
       "<IPython.core.display.HTML object>"
      ]
     },
     "metadata": {},
     "output_type": "display_data"
    }
   ],
   "source": [
    "import pandas as pd\n",
    "from sklearn.model_selection import train_test_split, GridSearchCV\n",
    "from sklearn.preprocessing import OrdinalEncoder\n",
    "from sklearn.impute import KNNImputer\n",
    "from sklearn.ensemble import GradientBoostingClassifier, RandomForestClassifier\n",
    "import lightgbm as lgbm\n",
    "import sklearn.metrics as metrics\n",
    "import matplotlib.pyplot as plt\n",
    "import seaborn as sns"
   ]
  },
  {
   "cell_type": "code",
   "execution_count": 2,
   "id": "dccd366a",
   "metadata": {
    "execution": {
     "iopub.execute_input": "2022-08-04T15:25:31.865674Z",
     "iopub.status.busy": "2022-08-04T15:25:31.865308Z",
     "iopub.status.idle": "2022-08-04T15:25:31.945544Z",
     "shell.execute_reply": "2022-08-04T15:25:31.944424Z"
    },
    "papermill": {
     "duration": 0.089379,
     "end_time": "2022-08-04T15:25:31.948544",
     "exception": false,
     "start_time": "2022-08-04T15:25:31.859165",
     "status": "completed"
    },
    "tags": []
   },
   "outputs": [],
   "source": [
    "train = pd.read_csv(\"../input/spaceship-titanic/train.csv\")\n",
    "test = pd.read_csv(\"../input/spaceship-titanic/test.csv\")\n",
    "submission = pd.read_csv(\"../input/spaceship-titanic/sample_submission.csv\")"
   ]
  },
  {
   "cell_type": "code",
   "execution_count": 3,
   "id": "4aa82ec4",
   "metadata": {
    "execution": {
     "iopub.execute_input": "2022-08-04T15:25:31.961783Z",
     "iopub.status.busy": "2022-08-04T15:25:31.959888Z",
     "iopub.status.idle": "2022-08-04T15:25:31.985998Z",
     "shell.execute_reply": "2022-08-04T15:25:31.984890Z"
    },
    "papermill": {
     "duration": 0.034563,
     "end_time": "2022-08-04T15:25:31.988334",
     "exception": false,
     "start_time": "2022-08-04T15:25:31.953771",
     "status": "completed"
    },
    "tags": []
   },
   "outputs": [
    {
     "data": {
      "text/plain": [
       "(  PassengerId HomePlanet CryoSleep  Cabin  Destination   Age    VIP  \\\n",
       " 0     0001_01     Europa     False  B/0/P  TRAPPIST-1e  39.0  False   \n",
       " 1     0002_01      Earth     False  F/0/S  TRAPPIST-1e  24.0  False   \n",
       " 2     0003_01     Europa     False  A/0/S  TRAPPIST-1e  58.0   True   \n",
       " 3     0003_02     Europa     False  A/0/S  TRAPPIST-1e  33.0  False   \n",
       " 4     0004_01      Earth     False  F/1/S  TRAPPIST-1e  16.0  False   \n",
       " \n",
       "    RoomService  FoodCourt  ShoppingMall     Spa  VRDeck               Name  \\\n",
       " 0          0.0        0.0           0.0     0.0     0.0    Maham Ofracculy   \n",
       " 1        109.0        9.0          25.0   549.0    44.0       Juanna Vines   \n",
       " 2         43.0     3576.0           0.0  6715.0    49.0      Altark Susent   \n",
       " 3          0.0     1283.0         371.0  3329.0   193.0       Solam Susent   \n",
       " 4        303.0       70.0         151.0   565.0     2.0  Willy Santantines   \n",
       " \n",
       "    Transported  \n",
       " 0        False  \n",
       " 1         True  \n",
       " 2        False  \n",
       " 3        False  \n",
       " 4         True  ,\n",
       "   PassengerId HomePlanet CryoSleep  Cabin  Destination   Age    VIP  \\\n",
       " 0     0013_01      Earth      True  G/3/S  TRAPPIST-1e  27.0  False   \n",
       " 1     0018_01      Earth     False  F/4/S  TRAPPIST-1e  19.0  False   \n",
       " 2     0019_01     Europa      True  C/0/S  55 Cancri e  31.0  False   \n",
       " 3     0021_01     Europa     False  C/1/S  TRAPPIST-1e  38.0  False   \n",
       " 4     0023_01      Earth     False  F/5/S  TRAPPIST-1e  20.0  False   \n",
       " \n",
       "    RoomService  FoodCourt  ShoppingMall     Spa  VRDeck              Name  \n",
       " 0          0.0        0.0           0.0     0.0     0.0   Nelly Carsoning  \n",
       " 1          0.0        9.0           0.0  2823.0     0.0    Lerome Peckers  \n",
       " 2          0.0        0.0           0.0     0.0     0.0   Sabih Unhearfus  \n",
       " 3          0.0     6652.0           0.0   181.0   585.0  Meratz Caltilter  \n",
       " 4         10.0        0.0         635.0     0.0     0.0   Brence Harperez  )"
      ]
     },
     "execution_count": 3,
     "metadata": {},
     "output_type": "execute_result"
    }
   ],
   "source": [
    "train.head(), test.head()"
   ]
  },
  {
   "cell_type": "code",
   "execution_count": 4,
   "id": "07bfa0d8",
   "metadata": {
    "execution": {
     "iopub.execute_input": "2022-08-04T15:25:32.000391Z",
     "iopub.status.busy": "2022-08-04T15:25:31.999337Z",
     "iopub.status.idle": "2022-08-04T15:25:32.006382Z",
     "shell.execute_reply": "2022-08-04T15:25:32.005532Z"
    },
    "papermill": {
     "duration": 0.015176,
     "end_time": "2022-08-04T15:25:32.008561",
     "exception": false,
     "start_time": "2022-08-04T15:25:31.993385",
     "status": "completed"
    },
    "tags": []
   },
   "outputs": [
    {
     "data": {
      "text/plain": [
       "((8693, 14), (4277, 13))"
      ]
     },
     "execution_count": 4,
     "metadata": {},
     "output_type": "execute_result"
    }
   ],
   "source": [
    "train.shape, test.shape"
   ]
  },
  {
   "cell_type": "code",
   "execution_count": 5,
   "id": "16f6c5b7",
   "metadata": {
    "execution": {
     "iopub.execute_input": "2022-08-04T15:25:32.021103Z",
     "iopub.status.busy": "2022-08-04T15:25:32.020365Z",
     "iopub.status.idle": "2022-08-04T15:25:32.057507Z",
     "shell.execute_reply": "2022-08-04T15:25:32.055568Z"
    },
    "papermill": {
     "duration": 0.046473,
     "end_time": "2022-08-04T15:25:32.060300",
     "exception": false,
     "start_time": "2022-08-04T15:25:32.013827",
     "status": "completed"
    },
    "tags": []
   },
   "outputs": [
    {
     "name": "stdout",
     "output_type": "stream",
     "text": [
      "<class 'pandas.core.frame.DataFrame'>\n",
      "RangeIndex: 8693 entries, 0 to 8692\n",
      "Data columns (total 14 columns):\n",
      " #   Column        Non-Null Count  Dtype  \n",
      "---  ------        --------------  -----  \n",
      " 0   PassengerId   8693 non-null   object \n",
      " 1   HomePlanet    8492 non-null   object \n",
      " 2   CryoSleep     8476 non-null   object \n",
      " 3   Cabin         8494 non-null   object \n",
      " 4   Destination   8511 non-null   object \n",
      " 5   Age           8514 non-null   float64\n",
      " 6   VIP           8490 non-null   object \n",
      " 7   RoomService   8512 non-null   float64\n",
      " 8   FoodCourt     8510 non-null   float64\n",
      " 9   ShoppingMall  8485 non-null   float64\n",
      " 10  Spa           8510 non-null   float64\n",
      " 11  VRDeck        8505 non-null   float64\n",
      " 12  Name          8493 non-null   object \n",
      " 13  Transported   8693 non-null   bool   \n",
      "dtypes: bool(1), float64(6), object(7)\n",
      "memory usage: 891.5+ KB\n",
      "<class 'pandas.core.frame.DataFrame'>\n",
      "RangeIndex: 4277 entries, 0 to 4276\n",
      "Data columns (total 13 columns):\n",
      " #   Column        Non-Null Count  Dtype  \n",
      "---  ------        --------------  -----  \n",
      " 0   PassengerId   4277 non-null   object \n",
      " 1   HomePlanet    4190 non-null   object \n",
      " 2   CryoSleep     4184 non-null   object \n",
      " 3   Cabin         4177 non-null   object \n",
      " 4   Destination   4185 non-null   object \n",
      " 5   Age           4186 non-null   float64\n",
      " 6   VIP           4184 non-null   object \n",
      " 7   RoomService   4195 non-null   float64\n",
      " 8   FoodCourt     4171 non-null   float64\n",
      " 9   ShoppingMall  4179 non-null   float64\n",
      " 10  Spa           4176 non-null   float64\n",
      " 11  VRDeck        4197 non-null   float64\n",
      " 12  Name          4183 non-null   object \n",
      "dtypes: float64(6), object(7)\n",
      "memory usage: 434.5+ KB\n"
     ]
    },
    {
     "data": {
      "text/plain": [
       "(None, None)"
      ]
     },
     "execution_count": 5,
     "metadata": {},
     "output_type": "execute_result"
    }
   ],
   "source": [
    "train.info(), test.info()"
   ]
  },
  {
   "cell_type": "code",
   "execution_count": 6,
   "id": "04203d19",
   "metadata": {
    "execution": {
     "iopub.execute_input": "2022-08-04T15:25:32.073768Z",
     "iopub.status.busy": "2022-08-04T15:25:32.072965Z",
     "iopub.status.idle": "2022-08-04T15:25:32.110397Z",
     "shell.execute_reply": "2022-08-04T15:25:32.109287Z"
    },
    "papermill": {
     "duration": 0.047422,
     "end_time": "2022-08-04T15:25:32.113286",
     "exception": false,
     "start_time": "2022-08-04T15:25:32.065864",
     "status": "completed"
    },
    "tags": []
   },
   "outputs": [
    {
     "data": {
      "text/html": [
       "<div>\n",
       "<style scoped>\n",
       "    .dataframe tbody tr th:only-of-type {\n",
       "        vertical-align: middle;\n",
       "    }\n",
       "\n",
       "    .dataframe tbody tr th {\n",
       "        vertical-align: top;\n",
       "    }\n",
       "\n",
       "    .dataframe thead th {\n",
       "        text-align: right;\n",
       "    }\n",
       "</style>\n",
       "<table border=\"1\" class=\"dataframe\">\n",
       "  <thead>\n",
       "    <tr style=\"text-align: right;\">\n",
       "      <th></th>\n",
       "      <th>Age</th>\n",
       "      <th>RoomService</th>\n",
       "      <th>FoodCourt</th>\n",
       "      <th>ShoppingMall</th>\n",
       "      <th>Spa</th>\n",
       "      <th>VRDeck</th>\n",
       "    </tr>\n",
       "  </thead>\n",
       "  <tbody>\n",
       "    <tr>\n",
       "      <th>count</th>\n",
       "      <td>8514.000000</td>\n",
       "      <td>8512.000000</td>\n",
       "      <td>8510.000000</td>\n",
       "      <td>8485.000000</td>\n",
       "      <td>8510.000000</td>\n",
       "      <td>8505.000000</td>\n",
       "    </tr>\n",
       "    <tr>\n",
       "      <th>mean</th>\n",
       "      <td>28.827930</td>\n",
       "      <td>224.687617</td>\n",
       "      <td>458.077203</td>\n",
       "      <td>173.729169</td>\n",
       "      <td>311.138778</td>\n",
       "      <td>304.854791</td>\n",
       "    </tr>\n",
       "    <tr>\n",
       "      <th>std</th>\n",
       "      <td>14.489021</td>\n",
       "      <td>666.717663</td>\n",
       "      <td>1611.489240</td>\n",
       "      <td>604.696458</td>\n",
       "      <td>1136.705535</td>\n",
       "      <td>1145.717189</td>\n",
       "    </tr>\n",
       "    <tr>\n",
       "      <th>min</th>\n",
       "      <td>0.000000</td>\n",
       "      <td>0.000000</td>\n",
       "      <td>0.000000</td>\n",
       "      <td>0.000000</td>\n",
       "      <td>0.000000</td>\n",
       "      <td>0.000000</td>\n",
       "    </tr>\n",
       "    <tr>\n",
       "      <th>25%</th>\n",
       "      <td>19.000000</td>\n",
       "      <td>0.000000</td>\n",
       "      <td>0.000000</td>\n",
       "      <td>0.000000</td>\n",
       "      <td>0.000000</td>\n",
       "      <td>0.000000</td>\n",
       "    </tr>\n",
       "    <tr>\n",
       "      <th>50%</th>\n",
       "      <td>27.000000</td>\n",
       "      <td>0.000000</td>\n",
       "      <td>0.000000</td>\n",
       "      <td>0.000000</td>\n",
       "      <td>0.000000</td>\n",
       "      <td>0.000000</td>\n",
       "    </tr>\n",
       "    <tr>\n",
       "      <th>75%</th>\n",
       "      <td>38.000000</td>\n",
       "      <td>47.000000</td>\n",
       "      <td>76.000000</td>\n",
       "      <td>27.000000</td>\n",
       "      <td>59.000000</td>\n",
       "      <td>46.000000</td>\n",
       "    </tr>\n",
       "    <tr>\n",
       "      <th>max</th>\n",
       "      <td>79.000000</td>\n",
       "      <td>14327.000000</td>\n",
       "      <td>29813.000000</td>\n",
       "      <td>23492.000000</td>\n",
       "      <td>22408.000000</td>\n",
       "      <td>24133.000000</td>\n",
       "    </tr>\n",
       "  </tbody>\n",
       "</table>\n",
       "</div>"
      ],
      "text/plain": [
       "               Age   RoomService     FoodCourt  ShoppingMall           Spa  \\\n",
       "count  8514.000000   8512.000000   8510.000000   8485.000000   8510.000000   \n",
       "mean     28.827930    224.687617    458.077203    173.729169    311.138778   \n",
       "std      14.489021    666.717663   1611.489240    604.696458   1136.705535   \n",
       "min       0.000000      0.000000      0.000000      0.000000      0.000000   \n",
       "25%      19.000000      0.000000      0.000000      0.000000      0.000000   \n",
       "50%      27.000000      0.000000      0.000000      0.000000      0.000000   \n",
       "75%      38.000000     47.000000     76.000000     27.000000     59.000000   \n",
       "max      79.000000  14327.000000  29813.000000  23492.000000  22408.000000   \n",
       "\n",
       "             VRDeck  \n",
       "count   8505.000000  \n",
       "mean     304.854791  \n",
       "std     1145.717189  \n",
       "min        0.000000  \n",
       "25%        0.000000  \n",
       "50%        0.000000  \n",
       "75%       46.000000  \n",
       "max    24133.000000  "
      ]
     },
     "execution_count": 6,
     "metadata": {},
     "output_type": "execute_result"
    }
   ],
   "source": [
    "train.describe()"
   ]
  },
  {
   "cell_type": "code",
   "execution_count": 7,
   "id": "0905a7b7",
   "metadata": {
    "execution": {
     "iopub.execute_input": "2022-08-04T15:25:32.126099Z",
     "iopub.status.busy": "2022-08-04T15:25:32.125699Z",
     "iopub.status.idle": "2022-08-04T15:25:32.141822Z",
     "shell.execute_reply": "2022-08-04T15:25:32.140517Z"
    },
    "papermill": {
     "duration": 0.025219,
     "end_time": "2022-08-04T15:25:32.144228",
     "exception": false,
     "start_time": "2022-08-04T15:25:32.119009",
     "status": "completed"
    },
    "tags": []
   },
   "outputs": [
    {
     "data": {
      "text/plain": [
       "(PassengerId       0\n",
       " HomePlanet      201\n",
       " CryoSleep       217\n",
       " Cabin           199\n",
       " Destination     182\n",
       " Age             179\n",
       " VIP             203\n",
       " RoomService     181\n",
       " FoodCourt       183\n",
       " ShoppingMall    208\n",
       " Spa             183\n",
       " VRDeck          188\n",
       " Name            200\n",
       " Transported       0\n",
       " dtype: int64,\n",
       " PassengerId       0\n",
       " HomePlanet       87\n",
       " CryoSleep        93\n",
       " Cabin           100\n",
       " Destination      92\n",
       " Age              91\n",
       " VIP              93\n",
       " RoomService      82\n",
       " FoodCourt       106\n",
       " ShoppingMall     98\n",
       " Spa             101\n",
       " VRDeck           80\n",
       " Name             94\n",
       " dtype: int64)"
      ]
     },
     "execution_count": 7,
     "metadata": {},
     "output_type": "execute_result"
    }
   ],
   "source": [
    "train.isnull().sum(), test.isnull().sum()"
   ]
  },
  {
   "cell_type": "code",
   "execution_count": 8,
   "id": "a121222b",
   "metadata": {
    "execution": {
     "iopub.execute_input": "2022-08-04T15:25:32.158014Z",
     "iopub.status.busy": "2022-08-04T15:25:32.157058Z",
     "iopub.status.idle": "2022-08-04T15:25:32.168130Z",
     "shell.execute_reply": "2022-08-04T15:25:32.167291Z"
    },
    "papermill": {
     "duration": 0.020523,
     "end_time": "2022-08-04T15:25:32.170572",
     "exception": false,
     "start_time": "2022-08-04T15:25:32.150049",
     "status": "completed"
    },
    "tags": []
   },
   "outputs": [],
   "source": [
    "all_spaceship_data = pd.concat([train, test], ignore_index=True)"
   ]
  },
  {
   "cell_type": "code",
   "execution_count": 9,
   "id": "8ff52f2a",
   "metadata": {
    "execution": {
     "iopub.execute_input": "2022-08-04T15:25:32.184614Z",
     "iopub.status.busy": "2022-08-04T15:25:32.183878Z",
     "iopub.status.idle": "2022-08-04T15:25:32.231683Z",
     "shell.execute_reply": "2022-08-04T15:25:32.230449Z"
    },
    "papermill": {
     "duration": 0.058335,
     "end_time": "2022-08-04T15:25:32.234800",
     "exception": false,
     "start_time": "2022-08-04T15:25:32.176465",
     "status": "completed"
    },
    "tags": []
   },
   "outputs": [],
   "source": [
    "all_spaceship_data[\"PassengerGroup\"] = all_spaceship_data[\"PassengerId\"].apply(lambda x: x.split(\"_\")[0])\n",
    "all_spaceship_data[\"Deck\"] = all_spaceship_data[\"Cabin\"].apply(lambda x: x if pd.isnull(x) else x.split(\"/\")[0])\n",
    "all_spaceship_data[\"Side\"] = all_spaceship_data[\"Cabin\"].apply(lambda x: x if pd.isnull(x) else x.split(\"/\")[2])\n",
    "all_spaceship_data.drop([\"PassengerId\", \"Cabin\", \"Name\"], axis = 1, inplace = True)"
   ]
  },
  {
   "cell_type": "code",
   "execution_count": 10,
   "id": "373a7aa0",
   "metadata": {
    "execution": {
     "iopub.execute_input": "2022-08-04T15:25:32.248598Z",
     "iopub.status.busy": "2022-08-04T15:25:32.247958Z",
     "iopub.status.idle": "2022-08-04T15:26:04.253040Z",
     "shell.execute_reply": "2022-08-04T15:26:04.252001Z"
    },
    "papermill": {
     "duration": 32.015231,
     "end_time": "2022-08-04T15:26:04.255977",
     "exception": false,
     "start_time": "2022-08-04T15:25:32.240746",
     "status": "completed"
    },
    "tags": []
   },
   "outputs": [],
   "source": [
    "#using pessenger travel group to fill in some missing values\n",
    "travelGroup = [\"Destination\", \"CryoSleep\", \"VIP\", \"Deck\", \"Side\", \"HomePlanet\"]\n",
    "\n",
    "for i in travelGroup:\n",
    "    all_spaceship_data[i] = all_spaceship_data.groupby([\"PassengerGroup\"])[i].apply(\n",
    "        lambda x: x.fillna(pd.Series.mode(x)[0]) if len(pd.Series.mode(x)) in range(1, 3) else x.fillna(\"None\"))\n",
    "    all_spaceship_data.loc[all_spaceship_data[i] == \"None\", i] = None"
   ]
  },
  {
   "cell_type": "code",
   "execution_count": 11,
   "id": "a55aa627",
   "metadata": {
    "execution": {
     "iopub.execute_input": "2022-08-04T15:26:04.269443Z",
     "iopub.status.busy": "2022-08-04T15:26:04.269055Z",
     "iopub.status.idle": "2022-08-04T15:26:04.289727Z",
     "shell.execute_reply": "2022-08-04T15:26:04.288667Z"
    },
    "papermill": {
     "duration": 0.030126,
     "end_time": "2022-08-04T15:26:04.292112",
     "exception": false,
     "start_time": "2022-08-04T15:26:04.261986",
     "status": "completed"
    },
    "tags": []
   },
   "outputs": [],
   "source": [
    "#using the mode to fill in the remaining missing values for object columns\n",
    "for i in travelGroup:\n",
    "    all_spaceship_data[i] = all_spaceship_data[i].fillna(all_spaceship_data[i].mode()[0])"
   ]
  },
  {
   "cell_type": "code",
   "execution_count": 12,
   "id": "11d8bbf1",
   "metadata": {
    "execution": {
     "iopub.execute_input": "2022-08-04T15:26:04.305101Z",
     "iopub.status.busy": "2022-08-04T15:26:04.304741Z",
     "iopub.status.idle": "2022-08-04T15:26:04.374839Z",
     "shell.execute_reply": "2022-08-04T15:26:04.373874Z"
    },
    "papermill": {
     "duration": 0.079518,
     "end_time": "2022-08-04T15:26:04.377494",
     "exception": false,
     "start_time": "2022-08-04T15:26:04.297976",
     "status": "completed"
    },
    "tags": []
   },
   "outputs": [],
   "source": [
    "OE = [\"Destination\", \"CryoSleep\", \"VIP\", \"Deck\", \"Side\", \"HomePlanet\", \"PassengerGroup\"]\n",
    "ordinalEncoder = OrdinalEncoder()\n",
    "all_spaceship_data[OE] = ordinalEncoder.fit_transform(all_spaceship_data[OE])"
   ]
  },
  {
   "cell_type": "code",
   "execution_count": 13,
   "id": "4f9511c6",
   "metadata": {
    "execution": {
     "iopub.execute_input": "2022-08-04T15:26:04.390563Z",
     "iopub.status.busy": "2022-08-04T15:26:04.390224Z",
     "iopub.status.idle": "2022-08-04T15:26:04.402614Z",
     "shell.execute_reply": "2022-08-04T15:26:04.401828Z"
    },
    "papermill": {
     "duration": 0.021648,
     "end_time": "2022-08-04T15:26:04.404857",
     "exception": false,
     "start_time": "2022-08-04T15:26:04.383209",
     "status": "completed"
    },
    "tags": []
   },
   "outputs": [],
   "source": [
    "all_spaceship_data [\"Transported\"].replace({True: 1, False: 0}, inplace = True)\n",
    "\n",
    "X = all_spaceship_data.drop(\"Transported\", axis = 1)\n",
    "y = all_spaceship_data[\"Transported\"].dropna()"
   ]
  },
  {
   "cell_type": "code",
   "execution_count": 14,
   "id": "2aeecd95",
   "metadata": {
    "execution": {
     "iopub.execute_input": "2022-08-04T15:26:04.418013Z",
     "iopub.status.busy": "2022-08-04T15:26:04.417657Z",
     "iopub.status.idle": "2022-08-04T15:26:05.888211Z",
     "shell.execute_reply": "2022-08-04T15:26:05.887294Z"
    },
    "papermill": {
     "duration": 1.480097,
     "end_time": "2022-08-04T15:26:05.890861",
     "exception": false,
     "start_time": "2022-08-04T15:26:04.410764",
     "status": "completed"
    },
    "tags": []
   },
   "outputs": [],
   "source": [
    "# using KNN imputer with a neighbor of 3 to fill in numerical missing values\n",
    "knn_imp = KNNImputer(n_neighbors = 3)\n",
    "X.loc[:,:] =knn_imp.fit_transform(X)\n",
    "bins = [0, 5, 10, 15, 20, 25, 30, 35, 40, 45, 50, 55, 60, 65, 80] \n",
    "labels = [1,2,3,4,5,6,7,8,9,10,11,12,13,14]\n",
    "\n",
    "#cutting age in age groups by binning.\n",
    "X[\"AgeGroup\"] = pd.cut(x = X[\"Age\"], bins = bins, labels = labels, include_lowest = True)\n",
    "X[\"Total_spent\"] = X[\"RoomService\"] + X[\"FoodCourt\"] + X[\"ShoppingMall\"] + X[\"Spa\"] + X[\"VRDeck\"]"
   ]
  },
  {
   "cell_type": "code",
   "execution_count": 15,
   "id": "7ce6d2cc",
   "metadata": {
    "execution": {
     "iopub.execute_input": "2022-08-04T15:26:05.904189Z",
     "iopub.status.busy": "2022-08-04T15:26:05.903819Z",
     "iopub.status.idle": "2022-08-04T15:26:05.908897Z",
     "shell.execute_reply": "2022-08-04T15:26:05.907725Z"
    },
    "papermill": {
     "duration": 0.014183,
     "end_time": "2022-08-04T15:26:05.910941",
     "exception": false,
     "start_time": "2022-08-04T15:26:05.896758",
     "status": "completed"
    },
    "tags": []
   },
   "outputs": [],
   "source": [
    "train = X.iloc[:8693,:]\n",
    "test = X.iloc[8693:,:]"
   ]
  },
  {
   "cell_type": "code",
   "execution_count": 16,
   "id": "b892736e",
   "metadata": {
    "execution": {
     "iopub.execute_input": "2022-08-04T15:26:05.926043Z",
     "iopub.status.busy": "2022-08-04T15:26:05.924430Z",
     "iopub.status.idle": "2022-08-04T15:26:05.953680Z",
     "shell.execute_reply": "2022-08-04T15:26:05.952670Z"
    },
    "papermill": {
     "duration": 0.038551,
     "end_time": "2022-08-04T15:26:05.956107",
     "exception": false,
     "start_time": "2022-08-04T15:26:05.917556",
     "status": "completed"
    },
    "tags": []
   },
   "outputs": [
    {
     "data": {
      "text/html": [
       "<div>\n",
       "<style scoped>\n",
       "    .dataframe tbody tr th:only-of-type {\n",
       "        vertical-align: middle;\n",
       "    }\n",
       "\n",
       "    .dataframe tbody tr th {\n",
       "        vertical-align: top;\n",
       "    }\n",
       "\n",
       "    .dataframe thead th {\n",
       "        text-align: right;\n",
       "    }\n",
       "</style>\n",
       "<table border=\"1\" class=\"dataframe\">\n",
       "  <thead>\n",
       "    <tr style=\"text-align: right;\">\n",
       "      <th></th>\n",
       "      <th>HomePlanet</th>\n",
       "      <th>CryoSleep</th>\n",
       "      <th>Destination</th>\n",
       "      <th>Age</th>\n",
       "      <th>VIP</th>\n",
       "      <th>RoomService</th>\n",
       "      <th>FoodCourt</th>\n",
       "      <th>ShoppingMall</th>\n",
       "      <th>Spa</th>\n",
       "      <th>VRDeck</th>\n",
       "      <th>PassengerGroup</th>\n",
       "      <th>Deck</th>\n",
       "      <th>Side</th>\n",
       "      <th>Total_spent</th>\n",
       "    </tr>\n",
       "  </thead>\n",
       "  <tbody>\n",
       "    <tr>\n",
       "      <th>HomePlanet</th>\n",
       "      <td>1.000000</td>\n",
       "      <td>0.088922</td>\n",
       "      <td>0.036891</td>\n",
       "      <td>0.136235</td>\n",
       "      <td>0.124178</td>\n",
       "      <td>0.213651</td>\n",
       "      <td>0.070067</td>\n",
       "      <td>0.104340</td>\n",
       "      <td>0.055277</td>\n",
       "      <td>0.039858</td>\n",
       "      <td>-0.005318</td>\n",
       "      <td>-0.416538</td>\n",
       "      <td>0.001586</td>\n",
       "      <td>0.150705</td>\n",
       "    </tr>\n",
       "    <tr>\n",
       "      <th>CryoSleep</th>\n",
       "      <td>0.088922</td>\n",
       "      <td>1.000000</td>\n",
       "      <td>-0.097670</td>\n",
       "      <td>-0.073326</td>\n",
       "      <td>-0.077880</td>\n",
       "      <td>-0.245420</td>\n",
       "      <td>-0.203577</td>\n",
       "      <td>-0.209800</td>\n",
       "      <td>-0.200642</td>\n",
       "      <td>-0.193781</td>\n",
       "      <td>-0.006133</td>\n",
       "      <td>0.011459</td>\n",
       "      <td>0.023201</td>\n",
       "      <td>-0.377145</td>\n",
       "    </tr>\n",
       "    <tr>\n",
       "      <th>Destination</th>\n",
       "      <td>0.036891</td>\n",
       "      <td>-0.097670</td>\n",
       "      <td>1.000000</td>\n",
       "      <td>-0.007088</td>\n",
       "      <td>-0.045636</td>\n",
       "      <td>0.048036</td>\n",
       "      <td>-0.111404</td>\n",
       "      <td>0.025346</td>\n",
       "      <td>-0.057451</td>\n",
       "      <td>-0.074969</td>\n",
       "      <td>-0.001503</td>\n",
       "      <td>0.191398</td>\n",
       "      <td>-0.010359</td>\n",
       "      <td>-0.099948</td>\n",
       "    </tr>\n",
       "    <tr>\n",
       "      <th>Age</th>\n",
       "      <td>0.136235</td>\n",
       "      <td>-0.073326</td>\n",
       "      <td>-0.007088</td>\n",
       "      <td>1.000000</td>\n",
       "      <td>0.091100</td>\n",
       "      <td>0.067818</td>\n",
       "      <td>0.129690</td>\n",
       "      <td>0.034948</td>\n",
       "      <td>0.124327</td>\n",
       "      <td>0.102921</td>\n",
       "      <td>-0.012076</td>\n",
       "      <td>-0.248270</td>\n",
       "      <td>0.011826</td>\n",
       "      <td>0.188630</td>\n",
       "    </tr>\n",
       "    <tr>\n",
       "      <th>VIP</th>\n",
       "      <td>0.124178</td>\n",
       "      <td>-0.077880</td>\n",
       "      <td>-0.045636</td>\n",
       "      <td>0.091100</td>\n",
       "      <td>1.000000</td>\n",
       "      <td>0.056769</td>\n",
       "      <td>0.125811</td>\n",
       "      <td>0.020976</td>\n",
       "      <td>0.060388</td>\n",
       "      <td>0.122582</td>\n",
       "      <td>0.013608</td>\n",
       "      <td>-0.182790</td>\n",
       "      <td>-0.010288</td>\n",
       "      <td>0.163132</td>\n",
       "    </tr>\n",
       "    <tr>\n",
       "      <th>RoomService</th>\n",
       "      <td>0.213651</td>\n",
       "      <td>-0.245420</td>\n",
       "      <td>0.048036</td>\n",
       "      <td>0.067818</td>\n",
       "      <td>0.056769</td>\n",
       "      <td>1.000000</td>\n",
       "      <td>-0.015804</td>\n",
       "      <td>0.059716</td>\n",
       "      <td>0.008869</td>\n",
       "      <td>-0.019756</td>\n",
       "      <td>0.000745</td>\n",
       "      <td>-0.031126</td>\n",
       "      <td>-0.012006</td>\n",
       "      <td>0.234759</td>\n",
       "    </tr>\n",
       "    <tr>\n",
       "      <th>FoodCourt</th>\n",
       "      <td>0.070067</td>\n",
       "      <td>-0.203577</td>\n",
       "      <td>-0.111404</td>\n",
       "      <td>0.129690</td>\n",
       "      <td>0.125811</td>\n",
       "      <td>-0.015804</td>\n",
       "      <td>1.000000</td>\n",
       "      <td>-0.012403</td>\n",
       "      <td>0.221908</td>\n",
       "      <td>0.225444</td>\n",
       "      <td>-0.009274</td>\n",
       "      <td>-0.318222</td>\n",
       "      <td>0.018501</td>\n",
       "      <td>0.742164</td>\n",
       "    </tr>\n",
       "    <tr>\n",
       "      <th>ShoppingMall</th>\n",
       "      <td>0.104340</td>\n",
       "      <td>-0.209800</td>\n",
       "      <td>0.025346</td>\n",
       "      <td>0.034948</td>\n",
       "      <td>0.020976</td>\n",
       "      <td>0.059716</td>\n",
       "      <td>-0.012403</td>\n",
       "      <td>1.000000</td>\n",
       "      <td>0.016045</td>\n",
       "      <td>-0.007755</td>\n",
       "      <td>0.015099</td>\n",
       "      <td>-0.032849</td>\n",
       "      <td>-0.022800</td>\n",
       "      <td>0.224009</td>\n",
       "    </tr>\n",
       "    <tr>\n",
       "      <th>Spa</th>\n",
       "      <td>0.055277</td>\n",
       "      <td>-0.200642</td>\n",
       "      <td>-0.057451</td>\n",
       "      <td>0.124327</td>\n",
       "      <td>0.060388</td>\n",
       "      <td>0.008869</td>\n",
       "      <td>0.221908</td>\n",
       "      <td>0.016045</td>\n",
       "      <td>1.000000</td>\n",
       "      <td>0.149887</td>\n",
       "      <td>-0.004802</td>\n",
       "      <td>-0.225612</td>\n",
       "      <td>0.004139</td>\n",
       "      <td>0.593445</td>\n",
       "    </tr>\n",
       "    <tr>\n",
       "      <th>VRDeck</th>\n",
       "      <td>0.039858</td>\n",
       "      <td>-0.193781</td>\n",
       "      <td>-0.074969</td>\n",
       "      <td>0.102921</td>\n",
       "      <td>0.122582</td>\n",
       "      <td>-0.019756</td>\n",
       "      <td>0.225444</td>\n",
       "      <td>-0.007755</td>\n",
       "      <td>0.149887</td>\n",
       "      <td>1.000000</td>\n",
       "      <td>0.015718</td>\n",
       "      <td>-0.252833</td>\n",
       "      <td>-0.008080</td>\n",
       "      <td>0.586177</td>\n",
       "    </tr>\n",
       "    <tr>\n",
       "      <th>PassengerGroup</th>\n",
       "      <td>-0.005318</td>\n",
       "      <td>-0.006133</td>\n",
       "      <td>-0.001503</td>\n",
       "      <td>-0.012076</td>\n",
       "      <td>0.013608</td>\n",
       "      <td>0.000745</td>\n",
       "      <td>-0.009274</td>\n",
       "      <td>0.015099</td>\n",
       "      <td>-0.004802</td>\n",
       "      <td>0.015718</td>\n",
       "      <td>1.000000</td>\n",
       "      <td>-0.002018</td>\n",
       "      <td>-0.010668</td>\n",
       "      <td>0.002557</td>\n",
       "    </tr>\n",
       "    <tr>\n",
       "      <th>Deck</th>\n",
       "      <td>-0.416538</td>\n",
       "      <td>0.011459</td>\n",
       "      <td>0.191398</td>\n",
       "      <td>-0.248270</td>\n",
       "      <td>-0.182790</td>\n",
       "      <td>-0.031126</td>\n",
       "      <td>-0.318222</td>\n",
       "      <td>-0.032849</td>\n",
       "      <td>-0.225612</td>\n",
       "      <td>-0.252833</td>\n",
       "      <td>-0.002018</td>\n",
       "      <td>1.000000</td>\n",
       "      <td>-0.030298</td>\n",
       "      <td>-0.387933</td>\n",
       "    </tr>\n",
       "    <tr>\n",
       "      <th>Side</th>\n",
       "      <td>0.001586</td>\n",
       "      <td>0.023201</td>\n",
       "      <td>-0.010359</td>\n",
       "      <td>0.011826</td>\n",
       "      <td>-0.010288</td>\n",
       "      <td>-0.012006</td>\n",
       "      <td>0.018501</td>\n",
       "      <td>-0.022800</td>\n",
       "      <td>0.004139</td>\n",
       "      <td>-0.008080</td>\n",
       "      <td>-0.010668</td>\n",
       "      <td>-0.030298</td>\n",
       "      <td>1.000000</td>\n",
       "      <td>0.001211</td>\n",
       "    </tr>\n",
       "    <tr>\n",
       "      <th>Total_spent</th>\n",
       "      <td>0.150705</td>\n",
       "      <td>-0.377145</td>\n",
       "      <td>-0.099948</td>\n",
       "      <td>0.188630</td>\n",
       "      <td>0.163132</td>\n",
       "      <td>0.234759</td>\n",
       "      <td>0.742164</td>\n",
       "      <td>0.224009</td>\n",
       "      <td>0.593445</td>\n",
       "      <td>0.586177</td>\n",
       "      <td>0.002557</td>\n",
       "      <td>-0.387933</td>\n",
       "      <td>0.001211</td>\n",
       "      <td>1.000000</td>\n",
       "    </tr>\n",
       "  </tbody>\n",
       "</table>\n",
       "</div>"
      ],
      "text/plain": [
       "                HomePlanet  CryoSleep  Destination       Age       VIP  \\\n",
       "HomePlanet        1.000000   0.088922     0.036891  0.136235  0.124178   \n",
       "CryoSleep         0.088922   1.000000    -0.097670 -0.073326 -0.077880   \n",
       "Destination       0.036891  -0.097670     1.000000 -0.007088 -0.045636   \n",
       "Age               0.136235  -0.073326    -0.007088  1.000000  0.091100   \n",
       "VIP               0.124178  -0.077880    -0.045636  0.091100  1.000000   \n",
       "RoomService       0.213651  -0.245420     0.048036  0.067818  0.056769   \n",
       "FoodCourt         0.070067  -0.203577    -0.111404  0.129690  0.125811   \n",
       "ShoppingMall      0.104340  -0.209800     0.025346  0.034948  0.020976   \n",
       "Spa               0.055277  -0.200642    -0.057451  0.124327  0.060388   \n",
       "VRDeck            0.039858  -0.193781    -0.074969  0.102921  0.122582   \n",
       "PassengerGroup   -0.005318  -0.006133    -0.001503 -0.012076  0.013608   \n",
       "Deck             -0.416538   0.011459     0.191398 -0.248270 -0.182790   \n",
       "Side              0.001586   0.023201    -0.010359  0.011826 -0.010288   \n",
       "Total_spent       0.150705  -0.377145    -0.099948  0.188630  0.163132   \n",
       "\n",
       "                RoomService  FoodCourt  ShoppingMall       Spa    VRDeck  \\\n",
       "HomePlanet         0.213651   0.070067      0.104340  0.055277  0.039858   \n",
       "CryoSleep         -0.245420  -0.203577     -0.209800 -0.200642 -0.193781   \n",
       "Destination        0.048036  -0.111404      0.025346 -0.057451 -0.074969   \n",
       "Age                0.067818   0.129690      0.034948  0.124327  0.102921   \n",
       "VIP                0.056769   0.125811      0.020976  0.060388  0.122582   \n",
       "RoomService        1.000000  -0.015804      0.059716  0.008869 -0.019756   \n",
       "FoodCourt         -0.015804   1.000000     -0.012403  0.221908  0.225444   \n",
       "ShoppingMall       0.059716  -0.012403      1.000000  0.016045 -0.007755   \n",
       "Spa                0.008869   0.221908      0.016045  1.000000  0.149887   \n",
       "VRDeck            -0.019756   0.225444     -0.007755  0.149887  1.000000   \n",
       "PassengerGroup     0.000745  -0.009274      0.015099 -0.004802  0.015718   \n",
       "Deck              -0.031126  -0.318222     -0.032849 -0.225612 -0.252833   \n",
       "Side              -0.012006   0.018501     -0.022800  0.004139 -0.008080   \n",
       "Total_spent        0.234759   0.742164      0.224009  0.593445  0.586177   \n",
       "\n",
       "                PassengerGroup      Deck      Side  Total_spent  \n",
       "HomePlanet           -0.005318 -0.416538  0.001586     0.150705  \n",
       "CryoSleep            -0.006133  0.011459  0.023201    -0.377145  \n",
       "Destination          -0.001503  0.191398 -0.010359    -0.099948  \n",
       "Age                  -0.012076 -0.248270  0.011826     0.188630  \n",
       "VIP                   0.013608 -0.182790 -0.010288     0.163132  \n",
       "RoomService           0.000745 -0.031126 -0.012006     0.234759  \n",
       "FoodCourt            -0.009274 -0.318222  0.018501     0.742164  \n",
       "ShoppingMall          0.015099 -0.032849 -0.022800     0.224009  \n",
       "Spa                  -0.004802 -0.225612  0.004139     0.593445  \n",
       "VRDeck                0.015718 -0.252833 -0.008080     0.586177  \n",
       "PassengerGroup        1.000000 -0.002018 -0.010668     0.002557  \n",
       "Deck                 -0.002018  1.000000 -0.030298    -0.387933  \n",
       "Side                 -0.010668 -0.030298  1.000000     0.001211  \n",
       "Total_spent           0.002557 -0.387933  0.001211     1.000000  "
      ]
     },
     "execution_count": 16,
     "metadata": {},
     "output_type": "execute_result"
    }
   ],
   "source": [
    "train.corr()"
   ]
  },
  {
   "cell_type": "code",
   "execution_count": 17,
   "id": "9551341a",
   "metadata": {
    "execution": {
     "iopub.execute_input": "2022-08-04T15:26:05.970413Z",
     "iopub.status.busy": "2022-08-04T15:26:05.969442Z",
     "iopub.status.idle": "2022-08-04T15:26:05.974767Z",
     "shell.execute_reply": "2022-08-04T15:26:05.974064Z"
    },
    "papermill": {
     "duration": 0.014266,
     "end_time": "2022-08-04T15:26:05.976638",
     "exception": false,
     "start_time": "2022-08-04T15:26:05.962372",
     "status": "completed"
    },
    "tags": []
   },
   "outputs": [],
   "source": [
    "train = X.iloc[:8693,:]\n",
    "test = X.iloc[8693:,:]"
   ]
  },
  {
   "cell_type": "code",
   "execution_count": 18,
   "id": "a11303cb",
   "metadata": {
    "execution": {
     "iopub.execute_input": "2022-08-04T15:26:05.990810Z",
     "iopub.status.busy": "2022-08-04T15:26:05.990146Z",
     "iopub.status.idle": "2022-08-04T15:26:07.929861Z",
     "shell.execute_reply": "2022-08-04T15:26:07.928906Z"
    },
    "papermill": {
     "duration": 1.949798,
     "end_time": "2022-08-04T15:26:07.932449",
     "exception": false,
     "start_time": "2022-08-04T15:26:05.982651",
     "status": "completed"
    },
    "tags": []
   },
   "outputs": [],
   "source": [
    "#lgbm training and prediction\n",
    "lg = lgbm.LGBMClassifier(n_estimators = 500, max_depth = 50, learning_rate = 0.02,  random_state=1)\n",
    "lg.fit(train, y)\n",
    "lgResult = lg.predict(test)\n",
    "submission[\"Transported\"] = lgResult\n",
    "submission[\"Transported\"].replace({1: True, 0: False}, inplace = True)\n",
    "submission.to_csv('submission.csv', index=False)"
   ]
  }
 ],
 "metadata": {
  "kernelspec": {
   "display_name": "Python 3",
   "language": "python",
   "name": "python3"
  },
  "language_info": {
   "codemirror_mode": {
    "name": "ipython",
    "version": 3
   },
   "file_extension": ".py",
   "mimetype": "text/x-python",
   "name": "python",
   "nbconvert_exporter": "python",
   "pygments_lexer": "ipython3",
   "version": "3.7.12"
  },
  "papermill": {
   "default_parameters": {},
   "duration": 48.437739,
   "end_time": "2022-08-04T15:26:08.763002",
   "environment_variables": {},
   "exception": null,
   "input_path": "__notebook__.ipynb",
   "output_path": "__notebook__.ipynb",
   "parameters": {},
   "start_time": "2022-08-04T15:25:20.325263",
   "version": "2.3.4"
  }
 },
 "nbformat": 4,
 "nbformat_minor": 5
}
